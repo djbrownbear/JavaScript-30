{
 "cells": [
  {
   "cell_type": "code",
   "execution_count": null,
   "id": "fc2e8525",
   "metadata": {},
   "outputs": [],
   "source": [
    "'''\n",
    "PURPOSE: TO GENERATE A DATASET FOR JAVASCRIPT TYPE AHEAD PROJECT \n",
    "DATE CREATED: 2022-08-01\n",
    "'''"
   ]
  },
  {
   "cell_type": "code",
   "execution_count": 1,
   "id": "7a1eb317",
   "metadata": {},
   "outputs": [],
   "source": [
    "import pandas as pd\n",
    "from datetime import datetime as dt\n",
    "import os\n",
    "import webbrowser"
   ]
  },
  {
   "cell_type": "code",
   "execution_count": 2,
   "id": "005da46b",
   "metadata": {},
   "outputs": [
    {
     "name": "stdout",
     "output_type": "stream",
     "text": [
      "Creating directory...\n"
     ]
    }
   ],
   "source": [
    "# set up directory paths\n",
    "BASE_DIR = os.path.join(os.path.expanduser(\"~\"),\"Downloads\")\n",
    "OUTPUT_DIR = os.path.join(BASE_DIR,'Output_Files') \n",
    "\n",
    "# check if Output directory exists\n",
    "if os.path.isfile(OUTPUT_DIR):\n",
    "  print(\"Directory already exists\")\n",
    "else:\n",
    "  print('Creating directory...')\n",
    "  os.mkdir(OUTPUT_DIR)"
   ]
  },
  {
   "cell_type": "code",
   "execution_count": 21,
   "id": "4cbdb42d",
   "metadata": {},
   "outputs": [
    {
     "name": "stdout",
     "output_type": "stream",
     "text": [
      "Download\n"
     ]
    }
   ],
   "source": [
    "# define dataset path \n",
    "data = os.path.join(BASE_DIR,'en.openfoodfacts.org.products.csv')\n",
    "# URL = \"https://static.openfoodfacts.org/data/en.openfoodfacts.org.products.csv\"\n",
    "# URL = \"https://drive.google.com/u/0/uc?id=0B9yPTG6M7yYzZGM4YTRhZWItOTM2ZS00MWQ3LTk4MWEtNmE3N2NkYTk5NDYw&export=download\"\n",
    "URL = \"https://www.google.com\"\n",
    "\n",
    "# check if data file exists\n",
    "if os.path.isfile(data_path):\n",
    "  print(\"Data file exists\")\n",
    "else:\n",
    "  if counter == 0:\n",
    "    print('Opening browser for download...')\n",
    "    webbrowser.open(URL, new=0, autoraise=True)"
   ]
  },
  {
   "cell_type": "code",
   "execution_count": 10,
   "id": "158ef8c3",
   "metadata": {},
   "outputs": [],
   "source": [
    "# create dataframe - this is a large dataset so set number of rows for exploration purposes\n",
    "df = pd.read_csv(data,\n",
    "                 sep=\"\\t\", encoding=\"utf-8\", nrows=10000, low_memory=False)"
   ]
  },
  {
   "cell_type": "code",
   "execution_count": null,
   "id": "49299155",
   "metadata": {},
   "outputs": [],
   "source": [
    "df.info()"
   ]
  },
  {
   "cell_type": "code",
   "execution_count": null,
   "id": "1260fdcb",
   "metadata": {},
   "outputs": [],
   "source": [
    "# list column names\n",
    "[x for x in df.columns]"
   ]
  },
  {
   "cell_type": "code",
   "execution_count": null,
   "id": "30ac0774",
   "metadata": {
    "scrolled": true
   },
   "outputs": [],
   "source": [
    "# list countries in the dataset\n",
    "df['countries'].unique()"
   ]
  },
  {
   "cell_type": "code",
   "execution_count": 27,
   "id": "4497ba15",
   "metadata": {},
   "outputs": [],
   "source": [
    "# create a list of countries to filter dataset\n",
    "# may decide to do a regex later, but to get started, created the list below \n",
    "\n",
    "country_filter = ['en:United States','United States','en:us']\n",
    "\n",
    "# columns filter for final output\n",
    "col_filter = [\n",
    " 'code',\n",
    " 'url',\n",
    " 'product_name',\n",
    " 'brands',\n",
    " 'categories',\n",
    " 'nutriscore_score',\n",
    " 'allergens'\n",
    "]"
   ]
  },
  {
   "cell_type": "code",
   "execution_count": 12,
   "id": "4863c430",
   "metadata": {},
   "outputs": [],
   "source": [
    "# filter dataset to include only foods with allergens indicated\n",
    "by_allergens = df.loc[(~df['allergens'].isnull()),:].copy()"
   ]
  },
  {
   "cell_type": "code",
   "execution_count": 13,
   "id": "cb633895",
   "metadata": {
    "collapsed": true
   },
   "outputs": [
    {
     "data": {
      "text/plain": [
       "array(['en:mustard', 'en:eggs,en:mustard', 'en:gluten,en:milk',\n",
       "       'en:fish,en:gluten,en:milk', 'en:milk',\n",
       "       'en:gluten,en:sesame-seeds', 'en:eggs,en:gluten', 'en:soybeans',\n",
       "       'en:milk,en:nuts', 'en:none', 'en:eggs,en:gluten,en:milk,en:nuts',\n",
       "       'en:nuts', 'en:milk,en:nuts,en:soybeans',\n",
       "       'en:sulphur-dioxide-and-sulphites', 'en:gluten',\n",
       "       'en:milk,en:nuts,en:soybeans,de:Pisatazien',\n",
       "       'en:gluten,en:milk,en:nuts',\n",
       "       'en:gluten,en:milk,en:nuts,en:Barley Malt Extract',\n",
       "       'en:milk,en:peanuts,en:soybeans', 'en:eggs,en:gluten,en:milk',\n",
       "       'en:eggs,en:gluten,en:milk,en:soybeans', 'en:celery',\n",
       "       'en:milk,en:soybeans,de:Hühnereiweiss,de:Weizenprotein,de:Wheyprotein',\n",
       "       'en:milk,en:soybeans', 'en:fish,en:gluten,en:milk,en:soybeans',\n",
       "       'de:Wheyproteinkonzentrat', 'en:fish', 'en:milk,en:peanuts',\n",
       "       'en:celery,en:milk', 'en:gluten,en:milk,en:soybeans',\n",
       "       'en:eggs,en:gluten,en:milk,en:sulphur-dioxide-and-sulphites',\n",
       "       'en:gluten,en:milk,en:Skimmed', 'en:fish,en:gluten,en:soybeans',\n",
       "       'en:crustaceans,en:milk',\n",
       "       'en:fish,en:gluten,en:milk,en:sesame-seeds',\n",
       "       'en:gluten,en:nuts,en:peanuts,en:sesame-seeds,en:soybeans',\n",
       "       'en:milk,en:mustard,en:sulphur-dioxide-and-sulphites',\n",
       "       'en:gluten,en:soybeans', 'en:eggs,en:milk',\n",
       "       'en:eggs,en:milk,en:soybeans',\n",
       "       'en:nuts,en:sulphur-dioxide-and-sulphites',\n",
       "       'en:eggs,en:gluten,en:milk,fr:Spécialité fromagère',\n",
       "       'en:crustaceans,en:gluten', 'en:peanuts', 'en:milk,en:Lait',\n",
       "       'en:nuts,en:peanuts', 'en:eggs',\n",
       "       'en:crustaceans,en:eggs,en:gluten,en:milk',\n",
       "       'en:eggs,en:gluten,en:milk,en:Shellfish', 'en:crustaceans,en:eggs',\n",
       "       'en:sesame-seeds', 'en:celery,en:milk,en:none',\n",
       "       'en:eggs,en:gluten,en:peanuts', 'en:peanuts,en:soybeans',\n",
       "       'en:eggs,en:milk,en:nuts,en:peanuts,en:soybeans',\n",
       "       'en:eggs,en:gluten,en:milk,en:mustard', 'en:celery,en:gluten',\n",
       "       'en:nuts,en:soybeans', 'en:gluten,en:milk,en:nuts,en:soybeans',\n",
       "       'en:gluten,en:nuts', 'en:nuts,en:peanuts,en:sesame-seeds',\n",
       "       'en:eggs,en:gluten,en:nuts', 'en:eggs,en:gluten,en:soybeans',\n",
       "       'en:eggs,en:soybeans',\n",
       "       'en:eggs,en:gluten,en:milk,en:nuts,en:peanuts',\n",
       "       'en:celery,en:eggs', 'en:crustaceans',\n",
       "       'en:eggs,en:soybeans,en:sulphur-dioxide-and-sulphites',\n",
       "       'en:celery,en:crustaceans,en:milk',\n",
       "       'en:crustaceans,en:fish,en:milk,en:sulphur-dioxide-and-sulphites',\n",
       "       'en:celery,en:sulphur-dioxide-and-sulphites',\n",
       "       'en:gluten,en:peanuts', 'en:celery,en:eggs,en:mustard',\n",
       "       'en:celery,en:mustard', 'en:gluten,en:sesame-seeds,en:soybeans',\n",
       "       'en:gluten,en:molluscs,en:soybeans',\n",
       "       'en:eggs,en:gluten,en:milk,en:nuts,en:sulphur-dioxide-and-sulphites',\n",
       "       'en:nuts,en:peanuts,en:soybeans', 'en:gluten,en:milk,en:peanuts',\n",
       "       'en:gluten,en:milk,en:peanuts,en:soybeans',\n",
       "       'en:gluten,en:milk,en:sesame-seeds,en:soybeans',\n",
       "       'en:celery,en:gluten,en:soybeans',\n",
       "       'en:eggs,en:milk,en:nuts,en:soybeans',\n",
       "       'en:eggs,en:gluten,en:nuts,en:soybeans',\n",
       "       'en:celery,en:fish,en:gluten',\n",
       "       'en:celery,en:eggs,en:gluten,en:milk,en:soybeans',\n",
       "       'en:eggs,en:milk,en:mustard', 'en:celery,en:eggs,en:milk',\n",
       "       'en:eggs,en:gluten,en:mustard', 'en:eggs,en:nuts'], dtype=object)"
      ]
     },
     "execution_count": 13,
     "metadata": {},
     "output_type": "execute_result"
    }
   ],
   "source": [
    "by_allergens['allergens'].unique()"
   ]
  },
  {
   "cell_type": "code",
   "execution_count": 14,
   "id": "88cafc61",
   "metadata": {},
   "outputs": [],
   "source": [
    "by_allergens['allergens'] = by_allergens['allergens'].replace('en:','',regex=True)"
   ]
  },
  {
   "cell_type": "code",
   "execution_count": 15,
   "id": "c46366b1",
   "metadata": {},
   "outputs": [],
   "source": [
    "by_countries = by_allergens.loc[(by_allergens['countries'].isin(country_filter)),:]"
   ]
  },
  {
   "cell_type": "code",
   "execution_count": 24,
   "id": "e6946289",
   "metadata": {},
   "outputs": [],
   "source": [
    "output_df = by_countries.loc[:,col_filter].copy()"
   ]
  },
  {
   "cell_type": "code",
   "execution_count": 25,
   "id": "5708bab1",
   "metadata": {},
   "outputs": [
    {
     "data": {
      "text/html": [
       "<div>\n",
       "<style scoped>\n",
       "    .dataframe tbody tr th:only-of-type {\n",
       "        vertical-align: middle;\n",
       "    }\n",
       "\n",
       "    .dataframe tbody tr th {\n",
       "        vertical-align: top;\n",
       "    }\n",
       "\n",
       "    .dataframe thead th {\n",
       "        text-align: right;\n",
       "    }\n",
       "</style>\n",
       "<table border=\"1\" class=\"dataframe\">\n",
       "  <thead>\n",
       "    <tr style=\"text-align: right;\">\n",
       "      <th></th>\n",
       "      <th>code</th>\n",
       "      <th>url</th>\n",
       "      <th>product_name</th>\n",
       "      <th>brands</th>\n",
       "      <th>categories</th>\n",
       "      <th>nutriscore_score</th>\n",
       "      <th>allergens</th>\n",
       "    </tr>\n",
       "  </thead>\n",
       "  <tbody>\n",
       "    <tr>\n",
       "      <th>550</th>\n",
       "      <td>0000020043131</td>\n",
       "      <td>http://world-en.openfoodfacts.org/product/0000...</td>\n",
       "      <td>Sliced Plain Bagel</td>\n",
       "      <td>Fresh &amp; Easy</td>\n",
       "      <td>Plant-based foods and beverages, Plant-based f...</td>\n",
       "      <td>3.0</td>\n",
       "      <td>gluten</td>\n",
       "    </tr>\n",
       "    <tr>\n",
       "      <th>848</th>\n",
       "      <td>0000105753078</td>\n",
       "      <td>http://world-en.openfoodfacts.org/product/0000...</td>\n",
       "      <td>Bread</td>\n",
       "      <td>NaN</td>\n",
       "      <td>Plant-based foods and beverages, Plant-based f...</td>\n",
       "      <td>NaN</td>\n",
       "      <td>milk</td>\n",
       "    </tr>\n",
       "    <tr>\n",
       "      <th>882</th>\n",
       "      <td>0000127534563</td>\n",
       "      <td>http://world-en.openfoodfacts.org/product/0000...</td>\n",
       "      <td>German fine bread</td>\n",
       "      <td>NaN</td>\n",
       "      <td>Plant-based foods and beverages, Plant-based f...</td>\n",
       "      <td>6.0</td>\n",
       "      <td>gluten</td>\n",
       "    </tr>\n",
       "    <tr>\n",
       "      <th>979</th>\n",
       "      <td>0000236555909</td>\n",
       "      <td>http://world-en.openfoodfacts.org/product/0000...</td>\n",
       "      <td>Bakers Best, White Bread</td>\n",
       "      <td>Wise Woodworks</td>\n",
       "      <td>Plant-based foods and beverages, Plant-based f...</td>\n",
       "      <td>0.0</td>\n",
       "      <td>soybeans</td>\n",
       "    </tr>\n",
       "    <tr>\n",
       "      <th>1022</th>\n",
       "      <td>0000300300152</td>\n",
       "      <td>http://world-en.openfoodfacts.org/product/0000...</td>\n",
       "      <td>Nestle, dark truffles grand chocolate</td>\n",
       "      <td>NaN</td>\n",
       "      <td>Snacks, Sweet snacks, Confectioneries, Chocola...</td>\n",
       "      <td>17.0</td>\n",
       "      <td>milk</td>\n",
       "    </tr>\n",
       "    <tr>\n",
       "      <th>...</th>\n",
       "      <td>...</td>\n",
       "      <td>...</td>\n",
       "      <td>...</td>\n",
       "      <td>...</td>\n",
       "      <td>...</td>\n",
       "      <td>...</td>\n",
       "      <td>...</td>\n",
       "    </tr>\n",
       "    <tr>\n",
       "      <th>9892</th>\n",
       "      <td>0011110201195</td>\n",
       "      <td>http://world-en.openfoodfacts.org/product/0011...</td>\n",
       "      <td>Double pepperoni thin crust pizza</td>\n",
       "      <td>NaN</td>\n",
       "      <td>Meals, Pizzas pies and quiches, Pizzas</td>\n",
       "      <td>18.0</td>\n",
       "      <td>gluten</td>\n",
       "    </tr>\n",
       "    <tr>\n",
       "      <th>9895</th>\n",
       "      <td>0011110201591</td>\n",
       "      <td>http://world-en.openfoodfacts.org/product/0011...</td>\n",
       "      <td>Pho ga inspired chicken noodle soup</td>\n",
       "      <td>NaN</td>\n",
       "      <td>Meals, Soups</td>\n",
       "      <td>0.0</td>\n",
       "      <td>celery</td>\n",
       "    </tr>\n",
       "    <tr>\n",
       "      <th>9896</th>\n",
       "      <td>0011110201607</td>\n",
       "      <td>http://world-en.openfoodfacts.org/product/0011...</td>\n",
       "      <td>Chicken coconut soup</td>\n",
       "      <td>NaN</td>\n",
       "      <td>Meals, Soups</td>\n",
       "      <td>3.0</td>\n",
       "      <td>celery</td>\n",
       "    </tr>\n",
       "    <tr>\n",
       "      <th>9900</th>\n",
       "      <td>0011110202086</td>\n",
       "      <td>http://world-en.openfoodfacts.org/product/0011...</td>\n",
       "      <td>Bakery sugar cookies</td>\n",
       "      <td>NaN</td>\n",
       "      <td>Snacks, Sweet snacks, Biscuits and cakes, Bisc...</td>\n",
       "      <td>19.0</td>\n",
       "      <td>eggs,gluten</td>\n",
       "    </tr>\n",
       "    <tr>\n",
       "      <th>9932</th>\n",
       "      <td>0011110219909</td>\n",
       "      <td>http://world-en.openfoodfacts.org/product/0011...</td>\n",
       "      <td>Cream stock</td>\n",
       "      <td>NaN</td>\n",
       "      <td>Canned foods, Meals, Soups, Canned meals, Cann...</td>\n",
       "      <td>14.0</td>\n",
       "      <td>gluten,milk</td>\n",
       "    </tr>\n",
       "  </tbody>\n",
       "</table>\n",
       "<p>783 rows × 7 columns</p>\n",
       "</div>"
      ],
      "text/plain": [
       "               code                                                url  \\\n",
       "550   0000020043131  http://world-en.openfoodfacts.org/product/0000...   \n",
       "848   0000105753078  http://world-en.openfoodfacts.org/product/0000...   \n",
       "882   0000127534563  http://world-en.openfoodfacts.org/product/0000...   \n",
       "979   0000236555909  http://world-en.openfoodfacts.org/product/0000...   \n",
       "1022  0000300300152  http://world-en.openfoodfacts.org/product/0000...   \n",
       "...             ...                                                ...   \n",
       "9892  0011110201195  http://world-en.openfoodfacts.org/product/0011...   \n",
       "9895  0011110201591  http://world-en.openfoodfacts.org/product/0011...   \n",
       "9896  0011110201607  http://world-en.openfoodfacts.org/product/0011...   \n",
       "9900  0011110202086  http://world-en.openfoodfacts.org/product/0011...   \n",
       "9932  0011110219909  http://world-en.openfoodfacts.org/product/0011...   \n",
       "\n",
       "                               product_name          brands  \\\n",
       "550                      Sliced Plain Bagel    Fresh & Easy   \n",
       "848                                   Bread             NaN   \n",
       "882                       German fine bread             NaN   \n",
       "979                Bakers Best, White Bread  Wise Woodworks   \n",
       "1022  Nestle, dark truffles grand chocolate             NaN   \n",
       "...                                     ...             ...   \n",
       "9892      Double pepperoni thin crust pizza             NaN   \n",
       "9895    Pho ga inspired chicken noodle soup             NaN   \n",
       "9896                   Chicken coconut soup             NaN   \n",
       "9900                   Bakery sugar cookies             NaN   \n",
       "9932                            Cream stock             NaN   \n",
       "\n",
       "                                             categories  nutriscore_score  \\\n",
       "550   Plant-based foods and beverages, Plant-based f...               3.0   \n",
       "848   Plant-based foods and beverages, Plant-based f...               NaN   \n",
       "882   Plant-based foods and beverages, Plant-based f...               6.0   \n",
       "979   Plant-based foods and beverages, Plant-based f...               0.0   \n",
       "1022  Snacks, Sweet snacks, Confectioneries, Chocola...              17.0   \n",
       "...                                                 ...               ...   \n",
       "9892             Meals, Pizzas pies and quiches, Pizzas              18.0   \n",
       "9895                                       Meals, Soups               0.0   \n",
       "9896                                       Meals, Soups               3.0   \n",
       "9900  Snacks, Sweet snacks, Biscuits and cakes, Bisc...              19.0   \n",
       "9932  Canned foods, Meals, Soups, Canned meals, Cann...              14.0   \n",
       "\n",
       "        allergens  \n",
       "550        gluten  \n",
       "848          milk  \n",
       "882        gluten  \n",
       "979      soybeans  \n",
       "1022         milk  \n",
       "...           ...  \n",
       "9892       gluten  \n",
       "9895       celery  \n",
       "9896       celery  \n",
       "9900  eggs,gluten  \n",
       "9932  gluten,milk  \n",
       "\n",
       "[783 rows x 7 columns]"
      ]
     },
     "execution_count": 25,
     "metadata": {},
     "output_type": "execute_result"
    }
   ],
   "source": [
    "output_df.head(20)"
   ]
  },
  {
   "cell_type": "code",
   "execution_count": 26,
   "id": "80879b8c",
   "metadata": {},
   "outputs": [],
   "source": [
    "TIMESTAMP = dt.now().strftime(\"%Y_%m_%d_%I%M%S\")\n",
    "\n",
    "output_df.to_json(path_or_buf=os.path.join(OUTPUT_DIR,TIMESTAMP+'_'+'OpenFoodFacts.json'),\n",
    "                  orient='records')\n"
   ]
  }
 ],
 "metadata": {
  "kernelspec": {
   "display_name": "Python 3.7.3 ('base')",
   "language": "python",
   "name": "python3"
  },
  "language_info": {
   "codemirror_mode": {
    "name": "ipython",
    "version": 3
   },
   "file_extension": ".py",
   "mimetype": "text/x-python",
   "name": "python",
   "nbconvert_exporter": "python",
   "pygments_lexer": "ipython3",
   "version": "3.7.3"
  },
  "vscode": {
   "interpreter": {
    "hash": "a74a6d3f2b449ff83342ca19e1ab8b4c365b627f3e1037cb40e2a8674a7c02d9"
   }
  }
 },
 "nbformat": 4,
 "nbformat_minor": 5
}
